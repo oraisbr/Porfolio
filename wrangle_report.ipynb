{
 "cells": [
  {
   "cell_type": "markdown",
   "metadata": {},
   "source": [
    "## Reporting: wragle_report"
   ]
  },
  {
   "cell_type": "markdown",
   "metadata": {},
   "source": [
    "This project was to analyze tweet archives from the @dog_rates Twitter account. Users can submit pictures of their dogs and have them rated by other users.\n",
    "The data used for this report was found in multiple locations. We had a CSV file of the tweet archive that was loaded into our data frame. This dataset included important information such as dog name, tweet urls, retweet staus (which helped determine if it was a retweet since they were not supposed to be included in our data). This dataset also included tweet id to be used to join with other datasets. There was a TSV file that included the images and image predictions. The image predictions were used to determine if the pictures included a dog in the image. The remaining data was from the Twitter API and included the retweet count and favorite count. Each file was read using a different process. I assesed the dataframes for quality issues and tidiness. I dropped 59 rows that did not include expanded urls, dropped 181 rows that were retweets, and 324 rows where no dogs were detected in the image prediction. Any rows left that did not have an image were also dropped. There were many unneeded columns, some without any data that were dropped as well. I combined four columns (doggo, floofer, pupper and puppo). I also replaced incorrect dog names and changed column datatype when needed. Throughout the process, I iterated and reassessed what needed to be cleaned and what data would be used for analysis. \n",
    "All datasets were loaded as separate data frames. Then assessed, cleaned, and combined using the tweet id provided in each dataset. When combining the data, tweet id columns were used to ensure accuracy.\n",
    "We began with 2356 tweets and ended up with 1751 after the cleaning process. "
   ]
  }
 ],
 "metadata": {
  "kernelspec": {
   "display_name": "Python 3",
   "language": "python",
   "name": "python3"
  },
  "language_info": {
   "codemirror_mode": {
    "name": "ipython",
    "version": 3
   },
   "file_extension": ".py",
   "mimetype": "text/x-python",
   "name": "python",
   "nbconvert_exporter": "python",
   "pygments_lexer": "ipython3",
   "version": "3.6.3"
  }
 },
 "nbformat": 4,
 "nbformat_minor": 2
}
